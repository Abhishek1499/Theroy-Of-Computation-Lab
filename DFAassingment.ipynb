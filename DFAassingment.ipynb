{
 "cells": [
  {
   "cell_type": "markdown",
   "metadata": {},
   "source": [
    "Aim : DFA to create string stating with a"
   ]
  },
  {
   "cell_type": "code",
   "execution_count": 2,
   "metadata": {},
   "outputs": [
    {
     "name": "stdin",
     "output_type": "stream",
     "text": [
      "enter a string aabb\n"
     ]
    },
    {
     "name": "stdout",
     "output_type": "stream",
     "text": [
      "accept\n"
     ]
    }
   ],
   "source": [
    "dfa=dict()\n",
    "dfa[(0,'a')]=1\n",
    "dfa[(0,'b')]=2\n",
    "dfa[(1,'a')]=1\n",
    "dfa[(1,'b')]=1\n",
    "dfa[(2,'a')]=2\n",
    "dfa[(2,'b')]=2\n",
    "class String_a:\n",
    "    def __init__(self,dfa):\n",
    "        self.current_state=0\n",
    "        self.final_state=1\n",
    "    def moves(self,st):\n",
    "        for i in st:\n",
    "            self.current_state=dfa[(self.current_state,i)]\n",
    "        if(self.current_state==self.final_state):\n",
    "            print(\"accept\")\n",
    "        else:\n",
    "            print(\"not accept\")\n",
    "st=input(\"enter a string\")\n",
    "ob=String_a(dfa)\n",
    "ob.moves(st)"
   ]
  },
  {
   "cell_type": "markdown",
   "metadata": {},
   "source": [
    "Aim :Design a program for creating a machine that accepts three consecutive 1's"
   ]
  },
  {
   "cell_type": "code",
   "execution_count": 4,
   "metadata": {},
   "outputs": [
    {
     "name": "stdin",
     "output_type": "stream",
     "text": [
      "enter string 1100\n"
     ]
    },
    {
     "data": {
      "text/plain": [
       "False"
      ]
     },
     "execution_count": 4,
     "metadata": {},
     "output_type": "execute_result"
    }
   ],
   "source": [
    "dfa={'a':{'0':'a','1':'b'},'b':{'0':'a','1':'c'},'c':{'0':'a','1':'d'},'d':{'0':'a','0':'d'}}\n",
    "\n",
    "class Consecutive_1:\n",
    "    def __init__(self,dfa):\n",
    "        self.current_state='a'\n",
    "        self.final_state={'d'}\n",
    "        \n",
    "    def moves(self,string):\n",
    "        occurence=0\n",
    "        for i in string:\n",
    "            self.current_state=dfa[self.current_state][i]\n",
    "            if self.current_state in self.final_state:\n",
    "                occurence = occurence + 1\n",
    "        if occurence!=0:\n",
    "            return True\n",
    "        else:\n",
    "            return False\n",
    "        \n",
    "\n",
    "str=input(\"enter string\")\n",
    "ob1=Consecutive_1(dfa)\n",
    "ob1.moves(str)"
   ]
  },
  {
   "cell_type": "markdown",
   "metadata": {},
   "source": [
    "Aim :Design a program for creating a machine that ends with 101"
   ]
  },
  {
   "cell_type": "code",
   "execution_count": 7,
   "metadata": {},
   "outputs": [
    {
     "name": "stdin",
     "output_type": "stream",
     "text": [
      "enter string 101\n"
     ]
    },
    {
     "data": {
      "text/plain": [
       "True"
      ]
     },
     "execution_count": 7,
     "metadata": {},
     "output_type": "execute_result"
    }
   ],
   "source": [
    "dfa=dict()\n",
    "dfa[('a','0')]='a'\n",
    "dfa[('a','1')]='b'\n",
    "dfa[('b','0')]='c'\n",
    "dfa[('b','1')]='b'\n",
    "dfa[('c','0')]='a'\n",
    "dfa[('c','1')]='d'\n",
    "dfa[('d','0')]='d'\n",
    "dfa[('d','1')]='d'\n",
    "\n",
    "class Consecutive_1:\n",
    "    def __init__(self,dfa):\n",
    "        self.current_state='a'\n",
    "        self.final_state='d'\n",
    "        \n",
    "    def moves(self,string):\n",
    "        for i in string:\n",
    "            self.current_state=dfa[(self.current_state,i)]\n",
    "        if self.current_state in self.final_state:\n",
    "            return True\n",
    "        else:\n",
    "            return False\n",
    "        \n",
    "\n",
    "str=input(\"enter string\")\n",
    "ob1=Consecutive_1(dfa)\n",
    "ob1.moves(str)"
   ]
  },
  {
   "cell_type": "markdown",
   "metadata": {},
   "source": [
    "Aim : Design a program for creating a machine of MOD 3"
   ]
  },
  {
   "cell_type": "code",
   "execution_count": 8,
   "metadata": {},
   "outputs": [
    {
     "name": "stdin",
     "output_type": "stream",
     "text": [
      "enter string 101010\n"
     ]
    },
    {
     "data": {
      "text/plain": [
       "True"
      ]
     },
     "execution_count": 8,
     "metadata": {},
     "output_type": "execute_result"
    }
   ],
   "source": [
    "dfa=dict()\n",
    "dfa[('a','0')]='a'\n",
    "dfa[('a','1')]='b'\n",
    "dfa[('b','0')]='c'\n",
    "dfa[('b','1')]='a'\n",
    "dfa[('c','0')]='b'\n",
    "dfa[('c','1')]='c'\n",
    "\n",
    "class Consecutive_1:\n",
    "    def __init__(self,dfa):\n",
    "        self.current_state='a'\n",
    "        self.final_state='a'\n",
    "        \n",
    "    def moves(self,string):\n",
    "        for i in string:\n",
    "            self.current_state=dfa[(self.current_state,i)]\n",
    "        if self.current_state in self.final_state:\n",
    "            return True\n",
    "        else:\n",
    "            return False\n",
    "        \n",
    "\n",
    "str=input(\"enter string\")\n",
    "ob1=Consecutive_1(dfa)\n",
    "ob1.moves(str)"
   ]
  }
 ],
 "metadata": {
  "kernelspec": {
   "display_name": "Python 3",
   "language": "python",
   "name": "python3"
  },
  "language_info": {
   "codemirror_mode": {
    "name": "ipython",
    "version": 3
   },
   "file_extension": ".py",
   "mimetype": "text/x-python",
   "name": "python",
   "nbconvert_exporter": "python",
   "pygments_lexer": "ipython3",
   "version": "3.7.3"
  }
 },
 "nbformat": 4,
 "nbformat_minor": 4
}
