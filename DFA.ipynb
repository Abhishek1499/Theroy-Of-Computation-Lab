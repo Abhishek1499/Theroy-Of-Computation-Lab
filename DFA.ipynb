{
 "cells": [
  {
   "cell_type": "markdown",
   "metadata": {},
   "source": [
    "AiM:- To design machine that accepts even number of 1's in the string"
   ]
  },
  {
   "cell_type": "code",
   "execution_count": 2,
   "metadata": {},
   "outputs": [
    {
     "name": "stdin",
     "output_type": "stream",
     "text": [
      "entre the string aaa\n"
     ]
    },
    {
     "name": "stdout",
     "output_type": "stream",
     "text": [
      "try again\n"
     ]
    }
   ],
   "source": [
    "dfa=dict()\n",
    "dfa[(0,'a')]=1\n",
    "dfa[(0,'b')]=3\n",
    "dfa[(1,'a')]=0\n",
    "dfa[(1,'b')]=2\n",
    "dfa[(2,'a')]=3\n",
    "dfa[(2,'b')]=2\n",
    "dfa[(3,'a')]=2\n",
    "dfa[(3,'b')]=0\n",
    "cs=0\n",
    "fs=0\n",
    "string=input(\"entre the string\")\n",
    "for i in range(len(string)):\n",
    "    s=string[i]\n",
    "    cs=dfa[(cs,s)]\n",
    "if cs==fs:\n",
    "    print(\"acceptable\")\n",
    "else:\n",
    "    print(\"try again\")\n"
   ]
  },
  {
   "cell_type": "code",
   "execution_count": 3,
   "metadata": {},
   "outputs": [
    {
     "name": "stdin",
     "output_type": "stream",
     "text": [
      "entre the string aa\n"
     ]
    },
    {
     "name": "stdout",
     "output_type": "stream",
     "text": [
      "acceptable\n"
     ]
    }
   ],
   "source": [
    "class machine:\n",
    "    def __init__(self):\n",
    "        self.currentState=0\n",
    "        self.FinalState={0}\n",
    "        \n",
    "    def moves(self,string,dfa):\n",
    "        \n",
    "        for i in range(len(string)):\n",
    "            s=string[i]\n",
    "            cs=self.currentState\n",
    "            self.currentState=dfa[cs][s]\n",
    "        if self.currentState in self.FinalState:\n",
    "            print(\"acceptable\")\n",
    "        else:\n",
    "            print(\"try again\")\n",
    "string=input(\"entre the string\")\n",
    "dfa={0:{'a':1,'b':3},1:{'a':0,'b':2},2:{'a':3,'b':1},3:{'a':2,'b':0}}\n",
    "obj=machine()\n",
    "obj.moves(string,dfa)"
   ]
  },
  {
   "cell_type": "code",
   "execution_count": 4,
   "metadata": {},
   "outputs": [
    {
     "name": "stdin",
     "output_type": "stream",
     "text": [
      "entre the string aaaaa\n"
     ]
    },
    {
     "name": "stdout",
     "output_type": "stream",
     "text": [
      "try again\n"
     ]
    }
   ],
   "source": [
    "dfa={0:{'a':1,'b':3},1:{'a':0,'b':2},2:{'a':3,'b':1},3:{'a':2,'b':0}}\n",
    "cs=0\n",
    "fs=0\n",
    "string=input(\"entre the string\")\n",
    "for i in range(len(string)):\n",
    "    s=string[i]\n",
    "    cs=dfa[cs][s]\n",
    "if cs==fs:\n",
    "    print(\"acceptable\")\n",
    "else:\n",
    "    print(\"try again\")\n"
   ]
  }
 ],
 "metadata": {
  "kernelspec": {
   "display_name": "Python 3",
   "language": "python",
   "name": "python3"
  },
  "language_info": {
   "codemirror_mode": {
    "name": "ipython",
    "version": 3
   },
   "file_extension": ".py",
   "mimetype": "text/x-python",
   "name": "python",
   "nbconvert_exporter": "python",
   "pygments_lexer": "ipython3",
   "version": "3.7.3"
  }
 },
 "nbformat": 4,
 "nbformat_minor": 4
}
